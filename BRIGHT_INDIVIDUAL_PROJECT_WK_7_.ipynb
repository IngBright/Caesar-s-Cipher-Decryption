{
 "cells": [
  {
   "cell_type": "markdown",
   "id": "0d7c63ad",
   "metadata": {},
   "source": [
    "# INDIVIDUAL PROJECT FOR WEEK 7"
   ]
  },
  {
   "cell_type": "markdown",
   "id": "4855cfee",
   "metadata": {},
   "source": [
    "## Caesar's Cipher Decryption\n",
    "\n",
    "The IT team needs to comply with the companies' policies on data privacy,  \n",
    "\n",
    "your boss tasks you to write an algorithm to encrypt and decrypt its internal messages using Caesar's Cipher\n",
    "\n",
    "In cryptography, a Caesar cipher, also known as shift cipher, is one of the simplest and most widely known encryption techniques. \n",
    "\n",
    "It is a type of substitution cipher in which each letter in the plaintext is replaced by a letter some fixed number of positions down the alphabet. \n",
    "\n",
    "For example, with a left shift of 3, D would be replaced by A, E would become B, and so on. The method is named after Julius Caesar, who used it in his private correspondence.\n",
    "\n",
    "The transformation can be represented by aligning two alphabets; the cipher alphabet is the plain alphabet rotated left or right by some number of positions. \n",
    "\n",
    "For instance, here is a Caesar cipher using a left rotation of three places, equivalent to a right shift of 23 (the shift parameter is used as the key):\n",
    "\n",
    "Plain:  ABCDEFGHIJKLMNOPQRSTUVWXYZ\n",
    "\n",
    "Cipher: XYZABCDEFGHIJKLMNOPQRSTUVW\n",
    "\n",
    "When encrypting, a person looks up each letter of the message in the “plain” line and writes down the corresponding letter in the “cipher” line.\n",
    "\n",
    "\n",
    "\n",
    "Ciphertext: QEB NRFZH YOLTK CLU GRJMP LSBO QEB IXWV ALD\n",
    "\n",
    "Plaintext:  THE QUICK BROWN FOX JUMPS OVER THE LAZY DOG\n",
    "\n",
    "Deciphering is done in reverse, with a right shift of 3.\n",
    "\n",
    "def  decryption(word, key):\n",
    "    letters = \"ABCDEFGHIJKLMNOPQRSTUVWXYZ\"\n",
    "    word = input(\"enter message: \").upper()\n",
    "    cipher = \"\"\n",
    "    key = int(input(\"enter key: \"))\n",
    "    for letter in word:\n",
    "        if letter in letters:\n",
    "            new_index = (letters.find(letter)+key)%26\n",
    "            cipher += letters[new_index]\n",
    "        else:\n",
    "            cipher += letter\n",
    "    return cipher"
   ]
  },
  {
   "cell_type": "code",
   "execution_count": 17,
   "id": "fd0c487c",
   "metadata": {},
   "outputs": [],
   "source": [
    "\n",
    "letters = \"ABCDEFGHIJKLMNOPQRSTUVWXYZ\"\n",
    "word = input(\"enter message: \").upper()\n",
    "key = int(input(\"enter key: \"))\n",
    "\n",
    "def  decryption(word, key):    \n",
    "    print (\"SIR MAWULI'S CEASAR CIPHER DECRYPTING  PROGRAM \")\n",
    "    print()\n",
    "    print()\n",
    "    print('Kindly find your decrypted message below.')\n",
    "    print()\n",
    "    print()\n",
    "    print()\n",
    "    cipher = \"\"    \n",
    "    for letter in word:\n",
    "        if letter in letters:\n",
    "            new_index = (letters.find(letter)+key)%26\n",
    "            cipher += letters[new_index]\n",
    "        else:\n",
    "            cipher += letter\n",
    "    return cipher\n",
    "\n",
    "\n"
   ]
  },
  {
   "cell_type": "code",
   "execution_count": 18,
   "id": "2db1ff38",
   "metadata": {},
   "outputs": [
    {
     "name": "stdout",
     "output_type": "stream",
     "text": [
      "SIR MAWULI'S CEASAR CIPHER DECRYPTING  PROGRAM \n",
      "\n",
      "\n",
      "Kindly find your decrypted message below.\n",
      "\n",
      "\n",
      "\n"
     ]
    },
    {
     "data": {
      "text/plain": [
       "'THE QUICK BROWN FOX JUMPS OVER THE LAZY DOG'"
      ]
     },
     "execution_count": 18,
     "metadata": {},
     "output_type": "execute_result"
    }
   ],
   "source": [
    "decryption(word, key)"
   ]
  },
  {
   "cell_type": "code",
   "execution_count": null,
   "id": "601ba712",
   "metadata": {},
   "outputs": [],
   "source": []
  }
 ],
 "metadata": {
  "kernelspec": {
   "display_name": "Python 3 (ipykernel)",
   "language": "python",
   "name": "python3"
  },
  "language_info": {
   "codemirror_mode": {
    "name": "ipython",
    "version": 3
   },
   "file_extension": ".py",
   "mimetype": "text/x-python",
   "name": "python",
   "nbconvert_exporter": "python",
   "pygments_lexer": "ipython3",
   "version": "3.11.3"
  }
 },
 "nbformat": 4,
 "nbformat_minor": 5
}
